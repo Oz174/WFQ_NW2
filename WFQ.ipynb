{
 "cells": [
  {
   "cell_type": "markdown",
   "id": "d6f80b11-397f-4816-abb5-a0cc560a2e53",
   "metadata": {},
   "source": [
    "# Global Functions"
   ]
  },
  {
   "cell_type": "code",
   "execution_count": 24,
   "id": "308a52c8-4d38-4656-b9db-29a04f4a5c14",
   "metadata": {},
   "outputs": [],
   "source": [
    "def register_packets():\n",
    "    # needs memoization for global packet naming , a cache that sees if the name has been named before or not \n",
    "    Packets = []\n",
    "    packet_info = \"\"\n",
    "    previous_packet_names = []\n",
    "    i = 0\n",
    "    while True:\n",
    "        i += 1\n",
    "        packet_info = input(f\"> Entry {i} : \")\n",
    "        if packet_info == \"-1\":\n",
    "            del i \n",
    "            break\n",
    "        else:\n",
    "            packet_info = packet_info.split(\" | \")\n",
    "            try:\n",
    "                if packet_info[0] not in previous_packet_names:\n",
    "                    previous_packet_names.append(packet_info[0])\n",
    "                else:\n",
    "                    raise ValueError(\"Duplicate Packet Entered ...\")\n",
    "                name = packet_info[0]\n",
    "                arrival_time = int(packet_info[1])\n",
    "                length = int(packet_info[2])\n",
    "                Packets.append(Packet(name,arrival_time,length))\n",
    "            except ValueError as e:\n",
    "                print(\"Cannot Accept Numbers for Packet Name\")\n",
    "                del i \n",
    "                return None\n",
    "            except IndexError as idxe:\n",
    "                print(\"Missing Argument\")\n",
    "                del i \n",
    "                return None\n",
    "    return Packets"
   ]
  },
  {
   "cell_type": "markdown",
   "id": "fcf83f04-dee3-4e7d-baee-844f4af4792b",
   "metadata": {},
   "source": [
    "## Packet Class"
   ]
  },
  {
   "cell_type": "code",
   "execution_count": 25,
   "id": "6b1e2132-274e-45d3-a692-4f8d85a921ee",
   "metadata": {},
   "outputs": [],
   "source": [
    "class Packet:\n",
    "    def __init__(self,name,arrival_time,length):\n",
    "        self.name = name\n",
    "        self.arrival_time = arrival_time\n",
    "        self.length = length\n",
    "        self.weighted_length = 0 \n",
    "        self.virtual_finish_time = float('inf')\n",
    "        self.actual_finish_time = float('inf')\n",
    "        self.order = -1\n",
    "\n",
    "    def set_weighted_length(self,weight):\n",
    "        assert self.length % weight == 0 , \"Weighted length cannot be a float number\"\n",
    "        self.weighted_length =  self.length // weight\n",
    "        \n",
    "    def set_virtual_finish_time(self,previous_finish_time):\n",
    "        self.virtual_finish_time = previous_finish_time + self.weighted_length\n",
    "\n",
    "    def set_actual_finish_time(self,previous_finish_time):\n",
    "        self.actual_finish_time = previous_finish_time + self.length\n",
    "\n",
    "    def set_order(self,order):\n",
    "        self.order = order \n",
    "\n",
    "    def print_packet(self):\n",
    "        print(f\" {self.name} | {self.arrival_time} | {self.length} | {self.weighted_length} | {self.virtual_finish_time} | {self.actual_finish_time} | {self.order}\")\n",
    "\n",
    "    def __str__(self):\n",
    "        return f\"({self.name} , {self.arrival_time} , {self.length} )\""
   ]
  },
  {
   "cell_type": "markdown",
   "id": "9920106e-c535-4171-a7a9-7ab78636ca14",
   "metadata": {},
   "source": [
    "## PacketQueue Class"
   ]
  },
  {
   "cell_type": "code",
   "execution_count": 26,
   "id": "6118ce9b-bc06-48c6-8dc1-5d9c15b43492",
   "metadata": {},
   "outputs": [],
   "source": [
    "class PacketQueue:\n",
    "    id = 0\n",
    "\n",
    "    @classmethod\n",
    "    def reset_id(cls):\n",
    "        cls.id = 0\n",
    "    \n",
    "    @classmethod\n",
    "    def rename_queue(cls):\n",
    "        cls.id += 1\n",
    "        return \"Q\" + str(cls.id)\n",
    "        \n",
    "    def __init__(self,weight,packets):\n",
    "        self.name = PacketQueue.rename_queue()\n",
    "        self.weight = weight\n",
    "        if packets is not None:\n",
    "            self.packets = sorted(packets , key = lambda x : (x.arrival_time , ord(x.name)))\n",
    "            for packet in self.packets:\n",
    "                packet.set_weighted_length(weight)\n",
    "        else:\n",
    "            self.packets = None\n",
    "\n",
    "\n",
    "    def calculate_virtual_finish_time(self):\n",
    "        self.virtual_finish_times = []\n",
    "        global_finish_time = 0\n",
    "        for packet in self.packets:\n",
    "            if packet.arrival_time >= global_finish_time : \n",
    "                packet.set_virtual_finish_time(packet.arrival_time)\n",
    "            else:\n",
    "                packet.set_virtual_finish_time(global_finish_time)\n",
    "            global_finish_time = packet.virtual_finish_time\n",
    "            self.virtual_finish_times.append((global_finish_time,PacketQueue.id,packet.name))\n",
    "        return self.virtual_finish_times\n",
    "\n",
    "    def get_packet(self,packet_name):\n",
    "        match = filter(lambda p : p.name == packet_name , self.packets)\n",
    "        match = list(match)\n",
    "        return match[0]\n",
    "    \n",
    "    def print_queue(self):\n",
    "        for packet in self.packets:\n",
    "            packet.print_packet()\n",
    "\n",
    "    def __str__(self):\n",
    "        return f\"( {self.name} , {self.weight} , {self.packets} )\""
   ]
  },
  {
   "cell_type": "markdown",
   "id": "5e1a950e-2169-45c5-9c37-ad94ea596957",
   "metadata": {},
   "source": [
    "## WFQ class"
   ]
  },
  {
   "cell_type": "code",
   "execution_count": 29,
   "id": "ebbe77ed-afca-49e6-ab19-a78a5d08f7e4",
   "metadata": {},
   "outputs": [],
   "source": [
    "class WFQ:\n",
    "    def __init__(self,num_of_queues):\n",
    "        PacketQueue.reset_id()\n",
    "        print(\"Welcome to WFQ registry ...\")\n",
    "        print(\"Please enter required Packet to the format given below\")\n",
    "        print(\"Format: Packet_Name | Arrival Time | Length (-1 to exit)\")\n",
    "        self.pqueues = []\n",
    "        self.queues_vlist = []\n",
    "        for i in range(num_of_queues):\n",
    "            print(f\"Registry of Queue {i+1} packets\")\n",
    "            q_packets = register_packets()\n",
    "            print(f\"Please assign Queue{i+1} 's weight\")\n",
    "            weight = int(input(\">\"))\n",
    "            q = PacketQueue(weight,q_packets)\n",
    "            self.queues_vlist.extend(q.calculate_virtual_finish_time())\n",
    "            self.pqueues.append(q)\n",
    "        del q \n",
    "        del q_packets\n",
    "\n",
    "    \n",
    "    def assign_order(self):\n",
    "        self.order_list = []\n",
    "        self.queues_vlist = sorted(self.queues_vlist , key = lambda x : (x[0],x[1]))\n",
    "        counter = 1\n",
    "        for i in (self.queues_vlist):\n",
    "            packet = self.pqueues[i[1]-1].get_packet(i[2])\n",
    "            packet.set_order(counter)\n",
    "            counter += 1\n",
    "            self.order_list.append(packet)\n",
    "        self.order_list.reverse()\n",
    "        del self.queues_vlist\n",
    "                \n",
    "\n",
    "    def calculate_actual_finish_time(self):\n",
    "        global_finish_time = 0\n",
    "        while self.order_list:\n",
    "            # because pop starts from last element which is technically the first packet now\n",
    "            p = self.order_list.pop()\n",
    "            if p.arrival_time >= global_finish_time:\n",
    "                p.set_actual_finish_time(p.arrival_time)\n",
    "            else:\n",
    "                p.set_actual_finish_time(global_finish_time)\n",
    "            global_finish_time = p.actual_finish_time\n",
    "        del self.order_list\n",
    "                \n",
    "    \n",
    "    def print_WFQ(self):\n",
    "        print(\" N |Arv| L |W.L| VFT | AFT | order\")\n",
    "        for packet_queue in self.pqueues:\n",
    "            print(f\"Queue: {packet_queue.name} has the following packets\")\n",
    "            packet_queue.print_queue()\n",
    "        \n",
    "            \n",
    "    "
   ]
  },
  {
   "cell_type": "code",
   "execution_count": 28,
   "id": "be86c0b9-7867-46bb-a338-30972f5b2e1b",
   "metadata": {},
   "outputs": [
    {
     "name": "stdout",
     "output_type": "stream",
     "text": [
      "Welcome to WFQ registry ...\n",
      "Please enter required Packet to the format given below\n",
      "Format: Packet_Name | Arrival Time | Length (-1 to exit)\n",
      "Registry of Queue 1 packets\n"
     ]
    },
    {
     "name": "stdin",
     "output_type": "stream",
     "text": [
      "> Entry 1 :  A | 0 | 2\n",
      "> Entry 2 :  D | 3 | 4\n",
      "> Entry 3 :  G | 6 | 10\n",
      "> Entry 4 :  J | 6 | 6\n",
      "> Entry 5 :  -1\n"
     ]
    },
    {
     "name": "stdout",
     "output_type": "stream",
     "text": [
      "Please assign Queue1 's weight\n"
     ]
    },
    {
     "name": "stdin",
     "output_type": "stream",
     "text": [
      "> 2\n"
     ]
    },
    {
     "name": "stdout",
     "output_type": "stream",
     "text": [
      "Registry of Queue 2 packets\n"
     ]
    },
    {
     "name": "stdin",
     "output_type": "stream",
     "text": [
      "> Entry 1 :  B | 4 | 5\n",
      "> Entry 2 :  E | 4 | 3\n",
      "> Entry 3 :  H | 7 | 2\n",
      "> Entry 4 :  -1\n"
     ]
    },
    {
     "name": "stdout",
     "output_type": "stream",
     "text": [
      "Please assign Queue2 's weight\n"
     ]
    },
    {
     "name": "stdin",
     "output_type": "stream",
     "text": [
      "> 1\n"
     ]
    },
    {
     "name": "stdout",
     "output_type": "stream",
     "text": [
      "Registry of Queue 3 packets\n"
     ]
    },
    {
     "name": "stdin",
     "output_type": "stream",
     "text": [
      "> Entry 1 :  C | 0 | 18\n",
      "> Entry 2 :  F | 3 | 6\n",
      "> Entry 3 :  I | 5 | 3\n",
      "> Entry 4 :  K | 7 | 9\n",
      "> Entry 5 :  -1\n"
     ]
    },
    {
     "name": "stdout",
     "output_type": "stream",
     "text": [
      "Please assign Queue3 's weight\n"
     ]
    },
    {
     "name": "stdin",
     "output_type": "stream",
     "text": [
      "> 3\n"
     ]
    },
    {
     "name": "stdout",
     "output_type": "stream",
     "text": [
      " N |Arv| L |W.L| VFT | AFT | order\n",
      "Queue: Q1 has the following packets\n",
      " A | 0 | 2 | 1 | 1 | 2 | 1\n",
      " D | 3 | 4 | 2 | 5 | 7 | 2\n",
      " G | 6 | 10 | 5 | 11 | 49 | 7\n",
      " J | 6 | 6 | 3 | 14 | 67 | 10\n",
      "Queue: Q2 has the following packets\n",
      " B | 4 | 5 | 5 | 9 | 36 | 5\n",
      " E | 4 | 3 | 3 | 12 | 52 | 8\n",
      " H | 7 | 2 | 2 | 14 | 69 | 11\n",
      "Queue: Q3 has the following packets\n",
      " C | 0 | 18 | 6 | 6 | 25 | 3\n",
      " F | 3 | 6 | 2 | 8 | 31 | 4\n",
      " I | 5 | 3 | 1 | 9 | 39 | 6\n",
      " K | 7 | 9 | 3 | 12 | 61 | 9\n"
     ]
    }
   ],
   "source": [
    "wfq = WFQ(3)\n",
    "wfq.assign_order()\n",
    "wfq.calculate_actual_finish_time()\n",
    "wfq.print_WFQ()"
   ]
  },
  {
   "cell_type": "code",
   "execution_count": null,
   "id": "5d407c08-70e5-44c1-8e74-cfd6576abc84",
   "metadata": {},
   "outputs": [],
   "source": []
  }
 ],
 "metadata": {
  "kernelspec": {
   "display_name": "Python 3 (ipykernel)",
   "language": "python",
   "name": "python3"
  },
  "language_info": {
   "codemirror_mode": {
    "name": "ipython",
    "version": 3
   },
   "file_extension": ".py",
   "mimetype": "text/x-python",
   "name": "python",
   "nbconvert_exporter": "python",
   "pygments_lexer": "ipython3",
   "version": "3.10.13"
  }
 },
 "nbformat": 4,
 "nbformat_minor": 5
}
